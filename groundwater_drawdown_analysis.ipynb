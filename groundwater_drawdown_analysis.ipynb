{
 "cells": [
  {
   "cell_type": "markdown",
   "id": "ffd253b2",
   "metadata": {},
   "source": [
    "# Groundwater Drawdown Analysis Notebook\n",
    "This notebook calculates the maximum drawdown by comparing SC0 and SC2 columns from borehole monitoring data."
   ]
  },
  {
   "cell_type": "code",
   "execution_count": null,
   "id": "997f4e84",
   "metadata": {},
   "outputs": [],
   "source": [
    "import pandas as pd\n",
    "\n",
    "# Load the dataset\n",
    "file_path = 'Merged_Main_Data.xlsx'\n",
    "data = pd.read_excel(file_path)  # Use read_excel for Excel files\n",
    "\n",
    "# Extracting the SC0 and SC2 columns along with the date column\n",
    "date_column = 'Date'\n",
    "sc0_columns = [col for col in data.columns if 'SC0' in col]\n",
    "\n",
    "# Creating an empty list to store the results\n",
    "drawdown_results = []\n",
    "\n",
    "# Looping through each pair of SC0 and SC2 columns to calculate maximum drawdown\n",
    "for sc0_col in sc0_columns:\n",
    "    sc2_col = sc0_col.replace('SC0', 'SC2')  # Find corresponding SC2 column\n",
    "    \n",
    "    if sc2_col in data.columns:\n",
    "        # Calculate drawdown (SC0 - SC2)\n",
    "        drawdown = data[sc0_col] - data[sc2_col]\n",
    "        \n",
    "        # Find the maximum drawdown value and its index\n",
    "        max_drawdown = drawdown.max()\n",
    "        max_drawdown_date = data.loc[drawdown.idxmax(), date_column]\n",
    "        \n",
    "        # Store the results\n",
    "        bore_name = sc0_col.split()[0]  # Extract bore name\n",
    "        drawdown_results.append([bore_name, max_drawdown, max_drawdown_date])\n",
    "\n",
    "# Convert the results to a DataFrame for better visualization\n",
    "drawdown_df = pd.DataFrame(drawdown_results, columns=['Bore', 'Maximum Drawdown (m)', 'Maximum Drawdown Date'])\n",
    "\n",
    "drawdown_df\n"
   ]
  }
 ],
 "metadata": {},
 "nbformat": 4,
 "nbformat_minor": 5
}
